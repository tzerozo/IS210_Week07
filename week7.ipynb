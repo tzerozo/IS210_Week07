{
 "cells": [
  {
   "cell_type": "code",
   "execution_count": 1,
   "metadata": {},
   "outputs": [
    {
     "ename": "IndentationError",
     "evalue": "expected an indented block (<ipython-input-1-ef719080937b>, line 2)",
     "output_type": "error",
     "traceback": [
      "\u001b[1;36m  File \u001b[1;32m\"<ipython-input-1-ef719080937b>\"\u001b[1;36m, line \u001b[1;32m2\u001b[0m\n\u001b[1;33m    def fibonacci (maxint):\u001b[0m\n\u001b[1;37m                           ^\u001b[0m\n\u001b[1;31mIndentationError\u001b[0m\u001b[1;31m:\u001b[0m expected an indented block\n"
     ]
    }
   ],
   "source": [
    "#Week07 Task#1 Lang.Tuang\n",
    "def fibonacci (maxint):"
   ]
  },
  {
   "cell_type": "code",
   "execution_count": 2,
   "metadata": {},
   "outputs": [
    {
     "ename": "NameError",
     "evalue": "name 'maxint' is not defined",
     "output_type": "error",
     "traceback": [
      "\u001b[1;31m\u001b[0m",
      "\u001b[1;31mNameError\u001b[0mTraceback (most recent call last)",
      "\u001b[1;32m<ipython-input-2-1311b9a8872c>\u001b[0m in \u001b[0;36m<module>\u001b[1;34m()\u001b[0m\n\u001b[0;32m      4\u001b[0m \u001b[0mfirst\u001b[0m\u001b[1;33m,\u001b[0m \u001b[0msecond\u001b[0m \u001b[1;33m=\u001b[0m \u001b[1;36m0\u001b[0m\u001b[1;33m,\u001b[0m \u001b[1;36m1\u001b[0m\u001b[1;33m\u001b[0m\u001b[0m\n\u001b[0;32m      5\u001b[0m \u001b[1;31m#while loop\u001b[0m\u001b[1;33m\u001b[0m\u001b[1;33m\u001b[0m\u001b[0m\n\u001b[1;32m----> 6\u001b[1;33m \u001b[1;32mwhile\u001b[0m \u001b[0msecond\u001b[0m \u001b[1;33m<\u001b[0m \u001b[0mmaxint\u001b[0m\u001b[1;33m:\u001b[0m\u001b[1;33m\u001b[0m\u001b[0m\n\u001b[0m\u001b[0;32m      7\u001b[0m     \u001b[0moutputlist\u001b[0m\u001b[1;33m.\u001b[0m\u001b[0mappend\u001b[0m\u001b[1;33m(\u001b[0m\u001b[0msecond\u001b[0m\u001b[1;33m)\u001b[0m\u001b[1;33m\u001b[0m\u001b[0m\n\u001b[0;32m      8\u001b[0m     \u001b[0mfirst\u001b[0m\u001b[1;33m,\u001b[0m \u001b[0msecond\u001b[0m \u001b[1;33m=\u001b[0m \u001b[0msecond\u001b[0m\u001b[1;33m,\u001b[0m \u001b[0mfirst\u001b[0m\u001b[1;33m+\u001b[0m\u001b[0msecond\u001b[0m\u001b[1;33m\u001b[0m\u001b[0m\n",
      "\u001b[1;31mNameError\u001b[0m: name 'maxint' is not defined"
     ]
    }
   ],
   "source": [
    "#create list for output\n",
    "outputlist = []\n",
    "#initial values\n",
    "first, second = 0, 1\n",
    "#while loop \n",
    "while second < maxint:\n",
    "    outputlist.append(second)\n",
    "    first, second = second, first+second\n",
    "return outputlist"
   ]
  },
  {
   "cell_type": "code",
   "execution_count": 5,
   "metadata": {},
   "outputs": [],
   "source": [
    "#Week07 Task#1 Lang.Tuang\n",
    "def fibonacci (maxint):\n",
    "    #create list for output\n",
    " outputlist = []\n",
    "#initial values\n",
    " first, second = 0, 1\n",
    "#while loop \n",
    " while second < maxint:\n",
    "    outputlist.append(second)\n",
    "    first, second = second, first+second\n",
    " return outputlist"
   ]
  },
  {
   "cell_type": "code",
   "execution_count": 6,
   "metadata": {},
   "outputs": [
    {
     "data": {
      "text/plain": [
       "[1, 1, 2, 3, 5, 8]"
      ]
     },
     "execution_count": 6,
     "metadata": {},
     "output_type": "execute_result"
    }
   ],
   "source": [
    "fibonacci(10)\n"
   ]
  },
  {
   "cell_type": "code",
   "execution_count": 7,
   "metadata": {},
   "outputs": [],
   "source": [
    "#Week07 Task#1 Lang.Tuang\n",
    "def fibonacci (maxint):\n",
    "    #create list for output\n",
    " outputlist = []\n",
    "#initial values\n",
    " first, second = 0, 0\n",
    "#while loop \n",
    " while second < maxint:\n",
    "    outputlist.append(second)\n",
    "    first, second = second, first+second\n",
    " return outputlist"
   ]
  },
  {
   "cell_type": "code",
   "execution_count": null,
   "metadata": {},
   "outputs": [],
   "source": [
    "fibonacci(10)"
   ]
  },
  {
   "cell_type": "code",
   "execution_count": null,
   "metadata": {},
   "outputs": [],
   "source": [
    "#Week07 Task#1 Lang.Tuang\n",
    "def fibonacci (maxint):\n",
    "    #create list for output\n",
    " outputlist = []\n",
    "#initial values\n",
    " first, second = 0, 1\n",
    "#while loop \n",
    " while second < maxint:\n",
    "    outputlist.append(second)\n",
    "    first, second = second, first+second\n",
    " return outputlist"
   ]
  },
  {
   "cell_type": "code",
   "execution_count": 1,
   "metadata": {},
   "outputs": [
    {
     "ename": "NameError",
     "evalue": "name 'fibonacci' is not defined",
     "output_type": "error",
     "traceback": [
      "\u001b[1;31m\u001b[0m",
      "\u001b[1;31mNameError\u001b[0mTraceback (most recent call last)",
      "\u001b[1;32m<ipython-input-1-57408513f147>\u001b[0m in \u001b[0;36m<module>\u001b[1;34m()\u001b[0m\n\u001b[1;32m----> 1\u001b[1;33m \u001b[0mfibonacci\u001b[0m\u001b[1;33m(\u001b[0m\u001b[1;36m10\u001b[0m\u001b[1;33m)\u001b[0m\u001b[1;33m\u001b[0m\u001b[0m\n\u001b[0m",
      "\u001b[1;31mNameError\u001b[0m: name 'fibonacci' is not defined"
     ]
    }
   ],
   "source": [
    "fibonacci(10)"
   ]
  },
  {
   "cell_type": "code",
   "execution_count": 2,
   "metadata": {},
   "outputs": [],
   "source": [
    "#Week07 Task#1 Lang.Tuang\n",
    "def fibonacci (maxint):\n",
    "    #create list for output\n",
    " outputlist = []\n",
    "#initial values\n",
    " first, second = 0, 1\n",
    "#while loop \n",
    " while second < maxint:\n",
    "    outputlist.append(second)\n",
    "    first, second = second, first+second\n",
    " return outputlist"
   ]
  },
  {
   "cell_type": "code",
   "execution_count": 3,
   "metadata": {},
   "outputs": [
    {
     "data": {
      "text/plain": [
       "[1, 1, 2, 3, 5, 8]"
      ]
     },
     "execution_count": 3,
     "metadata": {},
     "output_type": "execute_result"
    }
   ],
   "source": [
    "fibonacci(10)"
   ]
  },
  {
   "cell_type": "code",
   "execution_count": 4,
   "metadata": {},
   "outputs": [],
   "source": [
    "#Week07 Task#1 Lang.Tuang\n",
    "def fibonacci (maxint):\n",
    "    #create list for output\n",
    " outputlist = []\n",
    "#initial values\n",
    " first, second = 1, 0\n",
    "#while loop \n",
    " while second < maxint:\n",
    "    outputlist.append(second)\n",
    "    first, second = second, first+second\n",
    " return outputlist"
   ]
  },
  {
   "cell_type": "code",
   "execution_count": 5,
   "metadata": {},
   "outputs": [
    {
     "data": {
      "text/plain": [
       "[0, 1, 1, 2, 3, 5, 8]"
      ]
     },
     "execution_count": 5,
     "metadata": {},
     "output_type": "execute_result"
    }
   ],
   "source": [
    "fibonacci(10)"
   ]
  },
  {
   "cell_type": "code",
   "execution_count": 20,
   "metadata": {},
   "outputs": [],
   "source": [
    "#Task02 \n",
    "import decimal\n",
    "\n",
    "\n",
    "def lexicographics(to_analyze):\n",
    "    \"\"\"\n",
    "    Expected Output:\n",
    "    >>> lexicographics('''Don't stop believing,\n",
    "    Hold on to that feeling.''')\n",
    "    (5, 3, Decimal('4'))\n",
    "\n",
    "    \"\"\"\n",
    "    lines = to_analyze.splitlines()\n",
    "    text = []\n",
    "    for items in lines:\n",
    "        text.append(len(items.split()))\n",
    "    return (max(text), min(text), decimal.Decimal(float(sum(text))/len(lines)))"
   ]
  },
  {
   "cell_type": "code",
   "execution_count": 21,
   "metadata": {},
   "outputs": [
    {
     "data": {
      "text/plain": [
       "(5, 3, Decimal('4'))"
      ]
     },
     "execution_count": 21,
     "metadata": {},
     "output_type": "execute_result"
    }
   ],
   "source": [
    "lexicographics('''Don't stop believing,\n",
    "    Hold on to that feeling.''')"
   ]
  },
  {
   "cell_type": "code",
   "execution_count": null,
   "metadata": {},
   "outputs": [],
   "source": []
  }
 ],
 "metadata": {
  "kernelspec": {
   "display_name": "Python 2",
   "language": "python",
   "name": "python2"
  },
  "language_info": {
   "codemirror_mode": {
    "name": "ipython",
    "version": 2
   },
   "file_extension": ".py",
   "mimetype": "text/x-python",
   "name": "python",
   "nbconvert_exporter": "python",
   "pygments_lexer": "ipython2",
   "version": "2.7.16"
  }
 },
 "nbformat": 4,
 "nbformat_minor": 2
}
